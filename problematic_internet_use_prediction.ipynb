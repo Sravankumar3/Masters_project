{
  "cells": [
    {
      "cell_type": "code",
      "execution_count": 1,
      "metadata": {
        "execution": {
          "iopub.execute_input": "2024-10-13T13:53:33.456571Z",
          "iopub.status.busy": "2024-10-13T13:53:33.455316Z",
          "iopub.status.idle": "2024-10-13T13:53:37.225753Z",
          "shell.execute_reply": "2024-10-13T13:53:37.224674Z",
          "shell.execute_reply.started": "2024-10-13T13:53:33.456523Z"
        },
        "id": "7h_xerYjeGjJ",
        "trusted": true
      },
      "outputs": [],
      "source": [
        "import pandas as pd\n",
        "import numpy as np\n",
        "import os\n",
        "import warnings\n",
        "from concurrent.futures import ThreadPoolExecutor\n",
        "from tqdm import tqdm\n",
        "pd.set_option('display.max_rows', 500)\n",
        "pd.set_option('display.max_columns', 500)\n",
        "pd.set_option('display.width', 1000)"
      ]
    },
    {
      "cell_type": "code",
      "execution_count": 2,
      "metadata": {
        "colab": {
          "base_uri": "https://localhost:8080/",
          "height": 356
        },
        "execution": {
          "iopub.execute_input": "2024-10-13T13:53:37.227726Z",
          "iopub.status.busy": "2024-10-13T13:53:37.227172Z",
          "iopub.status.idle": "2024-10-13T13:55:12.818354Z",
          "shell.execute_reply": "2024-10-13T13:55:12.817121Z",
          "shell.execute_reply.started": "2024-10-13T13:53:37.227679Z"
        },
        "id": "5a6QIEbReGjM",
        "outputId": "e80c2aab-6321-4bfa-9aa0-ac43e809efa6",
        "trusted": true
      },
      "outputs": [
        {
          "name": "stderr",
          "output_type": "stream",
          "text": [
            "100%|██████████| 996/996 [01:49<00:00,  9.07it/s]\n",
            "100%|██████████| 2/2 [00:00<00:00,  4.90it/s]\n"
          ]
        }
      ],
      "source": [
        "# Suppress warnings\n",
        "warnings.filterwarnings('ignore')\n",
        "\n",
        "# Pandas option for displaying all columns\n",
        "pd.options.display.max_columns = None\n",
        "\n",
        "def process_file(filename, dirname):\n",
        "    df = pd.read_parquet(os.path.join(dirname, filename, 'part-0.parquet'))\n",
        "    df.drop('step', axis=1, inplace=True)\n",
        "    return df.describe().values.reshape(-1), filename.split('=')[1]\n",
        "\n",
        "def load_time_series(dirname) -> pd.DataFrame:\n",
        "    ids = os.listdir(dirname)\n",
        "    with ThreadPoolExecutor() as executor:\n",
        "        results = list(tqdm(executor.map(lambda fname: process_file(fname, dirname), ids), total=len(ids)))\n",
        "    stats, indexes = zip(*results)\n",
        "    df = pd.DataFrame(stats, columns=[f\"stat_{i}\" for i in range(len(stats[0]))])\n",
        "    df['id'] = indexes\n",
        "    return df\n",
        "\n",
        "# Load datasets\n",
        "train = pd.read_csv('C:/MY_Masters_Project/child-mind-institute-problematic-internet-use/train.csv')\n",
        "test = pd.read_csv('C:/MY_Masters_Project/child-mind-institute-problematic-internet-use/test.csv')\n",
        "sample = pd.read_csv('C:/MY_Masters_Project/child-mind-institute-problematic-internet-use/sample_submission.csv')\n",
        "\n",
        "# Load time series data\n",
        "train_ts = load_time_series(\"C:/MY_Masters_Project/child-mind-institute-problematic-internet-use/series_train.parquet\")\n",
        "test_ts = load_time_series(\"C:/MY_Masters_Project/child-mind-institute-problematic-internet-use/series_test.parquet\")\n",
        "\n",
        "# Merge datasets\n",
        "time_series_cols = train_ts.columns.tolist()\n",
        "time_series_cols.remove('id')\n",
        "train = pd.merge(train, train_ts, how=\"left\", on='id')\n",
        "test = pd.merge(test, test_ts, how=\"left\", on='id')\n",
        "train = train.drop('id', axis=1)\n",
        "test = test.drop('id', axis=1)"
      ]
    }
  ],
  "metadata": {
    "colab": {
      "provenance": []
    },
    "kaggle": {
      "accelerator": "none",
      "dataSources": [
        {
          "databundleVersionId": 9643020,
          "sourceId": 81933,
          "sourceType": "competition"
        }
      ],
      "dockerImageVersionId": 30786,
      "isGpuEnabled": false,
      "isInternetEnabled": false,
      "language": "python",
      "sourceType": "notebook"
    },
    "kernelspec": {
      "display_name": "Python 3",
      "language": "python",
      "name": "python3"
    },
    "language_info": {
      "codemirror_mode": {
        "name": "ipython",
        "version": 3
      },
      "file_extension": ".py",
      "mimetype": "text/x-python",
      "name": "python",
      "nbconvert_exporter": "python",
      "pygments_lexer": "ipython3",
      "version": "3.12.10"
    }
  },
  "nbformat": 4,
  "nbformat_minor": 0
}
